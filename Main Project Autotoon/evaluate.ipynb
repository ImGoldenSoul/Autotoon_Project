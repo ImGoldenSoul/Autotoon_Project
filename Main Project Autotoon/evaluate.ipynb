{
 "cells": [
  {
   "cell_type": "code",
   "execution_count": 8,
   "metadata": {},
   "outputs": [
    {
     "name": "stdout",
     "output_type": "stream",
     "text": [
      "Evaluation Results:\n",
      "MAE: 53.855859929865055\n",
      "MSE: 4.726820512251421\n",
      "SSIM: 0.9821267531082405\n",
      "PSNR: 40.57568523789379\n"
     ]
    }
   ],
   "source": [
    "import os\n",
    "import cv2\n",
    "import numpy as np\n",
    "from skimage.metrics import structural_similarity as compare_ssim\n",
    "\n",
    "def calculate_metrics(ground_truth_path, output_path):\n",
    "    # Initialize metrics\n",
    "    mae_total, mse_total, ssim_total, psnr_total = 0, 0, 0, 0\n",
    "    count = 0\n",
    "\n",
    "    # Iterate through files in ground truth and output directories\n",
    "    ground_truth_files = sorted(os.listdir(ground_truth_path))\n",
    "    output_files = sorted(os.listdir(output_path))\n",
    "    \n",
    "    for gt_file, out_file in zip(ground_truth_files, output_files):\n",
    "        gt_img_path = os.path.join(ground_truth_path, gt_file)\n",
    "        out_img_path = os.path.join(output_path, out_file)\n",
    "\n",
    "        # Load images\n",
    "        gt_img = cv2.imread(gt_img_path, cv2.IMREAD_GRAYSCALE)\n",
    "        out_img = cv2.imread(out_img_path, cv2.IMREAD_GRAYSCALE)\n",
    "\n",
    "        if gt_img is None or out_img is None:\n",
    "            print(f\"Error reading images {gt_file} or {out_file}\")\n",
    "            continue\n",
    "\n",
    "        # Resize images to ensure they match\n",
    "        if gt_img.shape != out_img.shape:\n",
    "            out_img = cv2.resize(out_img, (gt_img.shape[1], gt_img.shape[0]))\n",
    "\n",
    "        # Calculate metrics\n",
    "        mae = np.mean(np.abs(gt_img - out_img))\n",
    "        mse = np.mean((gt_img - out_img) ** 2)\n",
    "        ssim = compare_ssim(gt_img, out_img)\n",
    "        psnr = cv2.PSNR(gt_img, out_img)\n",
    "\n",
    "        # Sum metrics\n",
    "        mae_total += mae\n",
    "        mse_total += mse\n",
    "        ssim_total += ssim\n",
    "        psnr_total += psnr\n",
    "\n",
    "        count += 1\n",
    "\n",
    "    # Calculate averages\n",
    "    mae_avg = mae_total / count\n",
    "    mse_avg = mse_total / count\n",
    "    ssim_avg = ssim_total / count\n",
    "    psnr_avg = psnr_total / count\n",
    "\n",
    "    return mae_avg, mse_avg, ssim_avg, psnr_avg\n",
    "\n",
    "\n",
    "# Paths to the ground truth and output directories\n",
    "ground_truth_dir = \"C:\\\\Users\\\\toikh\\\\Documents\\\\GitHub\\\\AutoToon\\\\dataset\\\\test_set\\\\gt\"\n",
    "output_dir = \"C:\\\\Users\\\\toikh\\\\Documents\\\\GitHub\\\\AutoToon\\\\dataset\\\\test_set\\\\outp\"\n",
    "\n",
    "# Calculate metrics\n",
    "mae_avg, mse_avg, ssim_avg, psnr_avg = calculate_metrics(ground_truth_dir, output_dir)\n",
    "\n",
    "# Print results\n",
    "print(\"Evaluation Results:\")\n",
    "print(f\"MAE: {mae_avg}\")\n",
    "print(f\"MSE: {mse_avg}\")\n",
    "print(f\"SSIM: {ssim_avg}\")\n",
    "print(f\"PSNR: {psnr_avg}\")\n"
   ]
  }
 ],
 "metadata": {
  "kernelspec": {
   "display_name": "Python 3",
   "language": "python",
   "name": "python3"
  },
  "language_info": {
   "codemirror_mode": {
    "name": "ipython",
    "version": 3
   },
   "file_extension": ".py",
   "mimetype": "text/x-python",
   "name": "python",
   "nbconvert_exporter": "python",
   "pygments_lexer": "ipython3",
   "version": "3.12.5"
  }
 },
 "nbformat": 4,
 "nbformat_minor": 2
}
